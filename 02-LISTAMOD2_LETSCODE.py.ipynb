{
 "cells": [
  {
   "cell_type": "code",
   "execution_count": 7,
   "id": "168b5c86",
   "metadata": {},
   "outputs": [
    {
     "name": "stdout",
     "output_type": "stream",
     "text": [
      "Digite uma palavra ou uma frase:  fala galerinha\n",
      "f\n",
      "a\n",
      "l\n",
      "a\n",
      " \n",
      "g\n",
      "a\n",
      "l\n",
      "e\n",
      "r\n",
      "i\n",
      "n\n",
      "h\n",
      "a\n"
     ]
    }
   ],
   "source": [
    "#2. Faça um programa que peça para o usuário digitar uma palavra e imprima\n",
    "#cada letra em uma linha.\n",
    "\n",
    "palavra = str(input(\"Digite uma palavra ou uma frase:  \"))\n",
    "\n",
    "i = 0\n",
    "\n",
    "for i in range(len(palavra)):\n",
    "    print(palavra[i])\n",
    "    i += 1\n",
    "    \n",
    "\n",
    "    \n",
    "\n",
    "\n"
   ]
  },
  {
   "cell_type": "code",
   "execution_count": null,
   "id": "62013941",
   "metadata": {},
   "outputs": [],
   "source": []
  }
 ],
 "metadata": {
  "kernelspec": {
   "display_name": "Python 3 (ipykernel)",
   "language": "python",
   "name": "python3"
  },
  "language_info": {
   "codemirror_mode": {
    "name": "ipython",
    "version": 3
   },
   "file_extension": ".py",
   "mimetype": "text/x-python",
   "name": "python",
   "nbconvert_exporter": "python",
   "pygments_lexer": "ipython3",
   "version": "3.9.7"
  }
 },
 "nbformat": 4,
 "nbformat_minor": 5
}
