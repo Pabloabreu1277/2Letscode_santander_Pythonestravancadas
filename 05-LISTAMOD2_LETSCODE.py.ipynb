{
 "cells": [
  {
   "cell_type": "code",
   "execution_count": 47,
   "id": "502b388a",
   "metadata": {},
   "outputs": [
    {
     "name": "stdout",
     "output_type": "stream",
     "text": [
      "dict_items([(1, 'Janeiro-31'), (2, 'Feveriro-28'), (3, 'Março-31'), (4, 'Abril-31'), (5, 'Maio-30'), (6, 'Junho-31'), (7, 'Julho-30'), (8, 'Agosto-31'), (9, 'Setembro-30'), (10, 'Outubro-31'), (11, 'Novembro-30'), (12, 'Dezembro-31')])\n",
      "Janeiro-31\n",
      "Feveriro-28\n",
      "Março-31\n",
      "Abril-31\n",
      "Maio-30\n",
      "Junho-31\n",
      "Julho-30\n",
      "Agosto-31\n",
      "Setembro-30\n",
      "Outubro-31\n",
      "Novembro-30\n",
      "Dezembro-31\n"
     ]
    }
   ],
   "source": [
    "# 5 -Imprima as chaves seguidas dos seus valores para dicionário criado no exercício anterior.\n",
    "#Exemplo:Janeiro - 31\n",
    "#Fevereiro - 28\n",
    "#Março - 31\n",
    "\n",
    "\n",
    "mes = {\n",
    "    1: 'Janeiro-31',\n",
    "    2:'Feveriro-28',\n",
    "    3:'Março-31',\n",
    "    4:'Abril-31',\n",
    "    5:'Maio-30',\n",
    "    6:'Junho-31',\n",
    "    7:'Julho-30',\n",
    "    8:'Agosto-31',\n",
    "    9:'Setembro-30',\n",
    "    10:'Outubro-31',\n",
    "    11:'Novembro-30',\n",
    "    12:'Dezembro-31'   \n",
    "    \n",
    "}\n",
    "\n",
    "print(mes.items())\n",
    "i=0\n",
    "for i in range(len(mes)):\n",
    "    i = i + 1 \n",
    "    print(mes[i])\n",
    "    "
   ]
  },
  {
   "cell_type": "code",
   "execution_count": 36,
   "id": "1c9eb77d",
   "metadata": {},
   "outputs": [
    {
     "name": "stdout",
     "output_type": "stream",
     "text": [
      "<class 'dict'>\n",
      "{'nome': 'sao paulo', 'estado': 'sao paulo', 'area': 1521, 'população': 121800}\n",
      "{'nome': 'sao paulo', 'estado': 'sao paulo', 'area': 1521, 'população': 121800, 'pais': 'brasil'}\n",
      "{'nome': 'sao paulo', 'estado': 'sao paulo', 'area': 1521, 'população': 121800, 'pais': 'brasil', 'areakm2': 1500}\n",
      "{'nome': 'santos', 'estado': 'sao paulo', 'area': 1521, 'população': 121800, 'pais': 'brasil', 'areakm2': 1500}\n",
      "{'nome': 'santos', 'estado': 'sao paulo', 'area': 1521, 'população': 121800, 'pais': 'brasil', 'areakm2': 1500}\n",
      "{'nome': 'santos', 'estado': 'rio de janeiro', 'area': 1521, 'população': 121800, 'pais': 'brasil', 'areakm2': 1500}\n",
      "{'nome': 'santos', 'estado': 'sao paulo', 'area': 1521, 'população': 121800, 'pais': 'brasil', 'areakm2': 1500}\n",
      "{'nome': 'santos', 'estado': 'sao paulo', 'area': 1521, 'população': 15, 'pais': 'brasil', 'areakm2': 1500, 'fundação': '25/01/1554'}\n",
      "None\n",
      "dict_keys(['nome', 'estado', 'area', 'população', 'pais', 'areakm2', 'fundação'])\n",
      "___________\n",
      "dict_values(['santos', 'sao paulo', 1521, 15, 'brasil', 1500, '25/01/1554'])\n",
      "___________\n",
      "dict_items([('nome', 'santos'), ('estado', 'sao paulo'), ('area', 1521), ('população', 15), ('pais', 'brasil'), ('areakm2', 1500), ('fundação', '25/01/1554')])\n"
     ]
    }
   ],
   "source": [
    "dados = {\n",
    "    'nome':'sao paulo',\n",
    "    'estado':'sao paulo',\n",
    "    'area': 1521,\n",
    "    'população': 121800\n",
    "}\n",
    "\n",
    "print(type(dados))\n",
    "print(dados)\n",
    "\n",
    "dados['pais'] = 'brasil'\n",
    "\n",
    "print(dados)\n",
    "\n",
    "dados['areakm2']=1500\n",
    "print(dados)\n",
    "\n",
    "dados2 = dados\n",
    "dados2 ['nome'] = 'santos'\n",
    "print(dados2)\n",
    "print(dados)\n",
    "\n",
    "dados3 = dados.copy()\n",
    "\n",
    "dados3['estado'] = 'rio de janeiro'\n",
    "print(dados3)\n",
    "\n",
    "print(dados)\n",
    "\n",
    "\n",
    "novos_dados = {\n",
    "    'população': 15,\n",
    "    'fundação':'25/01/1554'\n",
    "\n",
    "}\n",
    "\n",
    "dados.update(novos_dados)\n",
    "print(dados)\n",
    "\n",
    "\n",
    "print(dados.get('perfeito'))\n",
    "\n",
    "print(dados.keys())#retorna alista de chaves de um dicionario\n",
    "print('___________')\n",
    "print(dados.values()) #retorna uma lista de valores de um dicionario\n",
    "print('___________')\n",
    "print(dados.items())#retorna uma lista de tuplas chave valor de um dicionario\n",
    "\n"
   ]
  },
  {
   "cell_type": "raw",
   "id": "321e9895",
   "metadata": {},
   "source": []
  }
 ],
 "metadata": {
  "kernelspec": {
   "display_name": "Python 3 (ipykernel)",
   "language": "python",
   "name": "python3"
  },
  "language_info": {
   "codemirror_mode": {
    "name": "ipython",
    "version": 3
   },
   "file_extension": ".py",
   "mimetype": "text/x-python",
   "name": "python",
   "nbconvert_exporter": "python",
   "pygments_lexer": "ipython3",
   "version": "3.9.7"
  }
 },
 "nbformat": 4,
 "nbformat_minor": 5
}
