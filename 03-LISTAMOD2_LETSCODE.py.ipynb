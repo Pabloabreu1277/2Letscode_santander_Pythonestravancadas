{
 "cells": [
  {
   "cell_type": "code",
   "execution_count": 29,
   "id": "2964223e",
   "metadata": {},
   "outputs": [
    {
     "name": "stdout",
     "output_type": "stream",
     "text": [
      "A soma da lista [4, 9, 4]\n"
     ]
    }
   ],
   "source": [
    "#3. Faça uma função que recebe duas listas e retorna a soma item a item dessas listas.\n",
    "#Exemplo: Se a função receber as listas [1,4,3] e [3,5,1], então a função deve\n",
    "#retornar [1+3, 4+5, 3+1] = [4, 9, 4].\n",
    "\n",
    "A = [1,4,3]\n",
    "B = [3,5,1]\n",
    "C = []\n",
    "i=0\n",
    "\n",
    "for i in range(3):\n",
    "    s = A[i] + B[i]\n",
    "    C.append(s)\n",
    "\n",
    "print(f\"A soma da lista {C}\")\n",
    "   \n",
    "\n",
    "\n"
   ]
  },
  {
   "cell_type": "code",
   "execution_count": null,
   "id": "cfd0cedf",
   "metadata": {},
   "outputs": [],
   "source": []
  },
  {
   "cell_type": "code",
   "execution_count": null,
   "id": "10c0b4aa",
   "metadata": {},
   "outputs": [],
   "source": []
  },
  {
   "cell_type": "code",
   "execution_count": null,
   "id": "c21ae723",
   "metadata": {},
   "outputs": [],
   "source": []
  }
 ],
 "metadata": {
  "kernelspec": {
   "display_name": "Python 3 (ipykernel)",
   "language": "python",
   "name": "python3"
  },
  "language_info": {
   "codemirror_mode": {
    "name": "ipython",
    "version": 3
   },
   "file_extension": ".py",
   "mimetype": "text/x-python",
   "name": "python",
   "nbconvert_exporter": "python",
   "pygments_lexer": "ipython3",
   "version": "3.9.7"
  }
 },
 "nbformat": 4,
 "nbformat_minor": 5
}
