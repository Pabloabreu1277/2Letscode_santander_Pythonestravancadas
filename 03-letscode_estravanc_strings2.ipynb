{
 "cells": [
  {
   "cell_type": "code",
   "execution_count": 2,
   "id": "19f0f2ae",
   "metadata": {},
   "outputs": [
    {
     "name": "stdout",
     "output_type": "stream",
     "text": [
      "Olá Pablo\n"
     ]
    }
   ],
   "source": [
    "# continuação string\n",
    "\n",
    "cumprimento = 'Olá '\n",
    "nome = 'Pablo'\n",
    "print(cumprimento + nome)\n"
   ]
  },
  {
   "cell_type": "code",
   "execution_count": 3,
   "id": "529c1bd1",
   "metadata": {},
   "outputs": [
    {
     "name": "stdout",
     "output_type": "stream",
     "text": [
      "PabloPabloPabloPabloPablo\n"
     ]
    }
   ],
   "source": [
    "print(nome * 5)"
   ]
  },
  {
   "cell_type": "code",
   "execution_count": 8,
   "id": "d5394cff",
   "metadata": {},
   "outputs": [
    {
     "name": "stdout",
     "output_type": "stream",
     "text": [
      "Pablo tem 35 anos 1 filho\n"
     ]
    }
   ],
   "source": [
    "nome = 'Pablo '\n",
    "idade = 35\n",
    "n_filhos = 1\n",
    "print(nome + 'tem ' + str(idade) + ' anos ' + str(n_filhos) + ' filho')\n"
   ]
  },
  {
   "cell_type": "code",
   "execution_count": 10,
   "id": "df62afbb",
   "metadata": {},
   "outputs": [
    {
     "name": "stdout",
     "output_type": "stream",
     "text": [
      "Pablo  tem 35 anos e 1 filhos\n"
     ]
    }
   ],
   "source": [
    "print('{} tem {} anos e {} filhos'. format(nome, idade, n_filhos))\n"
   ]
  },
  {
   "cell_type": "code",
   "execution_count": 13,
   "id": "2a440dcd",
   "metadata": {},
   "outputs": [
    {
     "name": "stdout",
     "output_type": "stream",
     "text": [
      "o preço da gasolina hoje subiu e está em R$ 3.48\n"
     ]
    }
   ],
   "source": [
    "preçog = 3.476\n",
    "\n",
    "print('o preço da gasolina hoje subiu e está em R$ {:.2f}'.format(preçog))\n"
   ]
  },
  {
   "cell_type": "code",
   "execution_count": 15,
   "id": "67bdba83",
   "metadata": {},
   "outputs": [
    {
     "name": "stdout",
     "output_type": "stream",
     "text": [
      "Pablo  tem 35 anos e 1 filhos\n"
     ]
    }
   ],
   "source": [
    "print(f'{nome} tem {idade} anos e {n_filhos} filhos')"
   ]
  },
  {
   "cell_type": "code",
   "execution_count": null,
   "id": "de04fa3d",
   "metadata": {},
   "outputs": [],
   "source": []
  }
 ],
 "metadata": {
  "kernelspec": {
   "display_name": "Python 3 (ipykernel)",
   "language": "python",
   "name": "python3"
  },
  "language_info": {
   "codemirror_mode": {
    "name": "ipython",
    "version": 3
   },
   "file_extension": ".py",
   "mimetype": "text/x-python",
   "name": "python",
   "nbconvert_exporter": "python",
   "pygments_lexer": "ipython3",
   "version": "3.9.7"
  }
 },
 "nbformat": 4,
 "nbformat_minor": 5
}
