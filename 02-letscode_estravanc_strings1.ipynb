{
 "cells": [
  {
   "cell_type": "code",
   "execution_count": 2,
   "id": "c6fc3788",
   "metadata": {},
   "outputs": [
    {
     "name": "stdout",
     "output_type": "stream",
     "text": [
      "g\n"
     ]
    }
   ],
   "source": [
    "empresa = 'google'\n",
    "print(empresa[0])"
   ]
  },
  {
   "cell_type": "code",
   "execution_count": 4,
   "id": "0279af65",
   "metadata": {},
   "outputs": [
    {
     "name": "stdout",
     "output_type": "stream",
     "text": [
      "['sao paulo', 'belo horizonte', 'diadema', 'rio de janeiro', 'brasilia ']\n"
     ]
    }
   ],
   "source": [
    "#metodo split\n",
    "cidades = \"sao paulo, belo horizonte, diadema, rio de janeiro, brasilia \"\n",
    "cidades = cidades.split(', ')\n",
    "print(cidades)\n"
   ]
  },
  {
   "cell_type": "code",
   "execution_count": 5,
   "id": "f8f1781c",
   "metadata": {},
   "outputs": [
    {
     "name": "stdout",
     "output_type": "stream",
     "text": [
      "Rio JaNeiRo\n"
     ]
    }
   ],
   "source": [
    "#metodo strip\n",
    "cabecalho = \"                               Rio JaNeiRo     \"\n",
    "print(cabecalho.strip())\n"
   ]
  },
  {
   "cell_type": "code",
   "execution_count": 6,
   "id": "cd046884",
   "metadata": {},
   "outputs": [
    {
     "name": "stdout",
     "output_type": "stream",
     "text": [
      "Rio Janeiro\n",
      "Rio janeiro\n",
      "rio janeiro\n",
      "RIO JANEIRO\n"
     ]
    }
   ],
   "source": [
    "#metodos de formatação\n",
    "\n",
    "cidade= 'Rio JaNeiRo'\n",
    "print(cidade.title())\n",
    "print(cidade.capitalize())\n",
    "print(cidade.lower())\n",
    "print(cidade.upper())\n",
    "\n"
   ]
  },
  {
   "cell_type": "code",
   "execution_count": 7,
   "id": "2bac6210",
   "metadata": {},
   "outputs": [
    {
     "name": "stdout",
     "output_type": "stream",
     "text": [
      "Que cidade do brasil é considerada como cidade maravilhosario\n",
      "Tente de novo por gentileza!\n",
      "Que cidade do brasil é considerada como cidade maravilhosaRIO DE janeiro\n",
      "boa voce acertou\n"
     ]
    }
   ],
   "source": [
    "#exemplo de aplicação\n",
    "\n",
    "cidade = input(\"Que cidade do brasil é considerada como cidade maravilhosa\")\n",
    "cidade = cidade.strip()\n",
    "while cidade.lower() != 'rio de janeiro':\n",
    "    print(\"Tente de novo por gentileza!\")\n",
    "    cidade = input(\"Que cidade do brasil é considerada como cidade maravilhosa\")\n",
    "print(\"boa voce acertou\")"
   ]
  },
  {
   "cell_type": "code",
   "execution_count": 8,
   "id": "933b707a",
   "metadata": {},
   "outputs": [
    {
     "name": "stdout",
     "output_type": "stream",
     "text": [
      "False\n"
     ]
    }
   ],
   "source": [
    "#Exemplo in \n",
    "\n",
    "mensagem = 'Voce vio o que o Pietro disse na aula ontem?'\n",
    "citado = \"felipe\" in mensagem\n",
    "print(citado)\n",
    "\n"
   ]
  },
  {
   "cell_type": "code",
   "execution_count": null,
   "id": "45b73de7",
   "metadata": {},
   "outputs": [],
   "source": []
  }
 ],
 "metadata": {
  "kernelspec": {
   "display_name": "Python 3 (ipykernel)",
   "language": "python",
   "name": "python3"
  },
  "language_info": {
   "codemirror_mode": {
    "name": "ipython",
    "version": 3
   },
   "file_extension": ".py",
   "mimetype": "text/x-python",
   "name": "python",
   "nbconvert_exporter": "python",
   "pygments_lexer": "ipython3",
   "version": "3.9.7"
  }
 },
 "nbformat": 4,
 "nbformat_minor": 5
}
