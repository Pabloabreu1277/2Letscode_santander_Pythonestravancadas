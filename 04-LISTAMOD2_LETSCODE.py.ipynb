{
 "cells": [
  {
   "cell_type": "code",
   "execution_count": 30,
   "id": "502b388a",
   "metadata": {},
   "outputs": [
    {
     "name": "stdout",
     "output_type": "stream",
     "text": [
      "dict_items([('Janeiro', 31), ('Feveriro', 28), ('Março', 30), ('Abril', 31), ('Maio', 30), ('Junho', 31), ('Julho', 30), ('Agosto', 30), ('Setembro', 31), ('Outubro', 30), ('Novembro', 30), ('Dezembro', 31)])\n"
     ]
    }
   ],
   "source": [
    "#4.Crie um dicionário cujas chaves são os meses do ano e os valores são a duração (em dias) de cada mês.\n",
    "\n",
    "mes = {\n",
    "    'Janeiro':31, \n",
    "    'Feveriro':28,\n",
    "    'Março':30,\n",
    "    'Abril':31,\n",
    "    'Maio':30,\n",
    "    'Junho':31,\n",
    "    'Julho':30,\n",
    "    'Agosto':30,\n",
    "    'Setembro':31,\n",
    "    'Outubro':30,\n",
    "    'Novembro':30,\n",
    "    'Dezembro':31   \n",
    "    \n",
    "}\n",
    "    \n",
    "    \n",
    "print(mes.items())"
   ]
  },
  {
   "cell_type": "code",
   "execution_count": 28,
   "id": "1c9eb77d",
   "metadata": {},
   "outputs": [
    {
     "ename": "TypeError",
     "evalue": "'tuple' object is not callable",
     "output_type": "error",
     "traceback": [
      "\u001b[1;31m---------------------------------------------------------------------------\u001b[0m",
      "\u001b[1;31mTypeError\u001b[0m                                 Traceback (most recent call last)",
      "\u001b[1;32m~\\AppData\\Local\\Temp/ipykernel_22920/1708088053.py\u001b[0m in \u001b[0;36m<module>\u001b[1;34m\u001b[0m\n\u001b[0;32m      1\u001b[0m \u001b[1;32mfrom\u001b[0m \u001b[0mdatetime\u001b[0m \u001b[1;32mimport\u001b[0m \u001b[0mdate\u001b[0m\u001b[1;33m\u001b[0m\u001b[1;33m\u001b[0m\u001b[0m\n\u001b[0;32m      2\u001b[0m \u001b[1;33m\u001b[0m\u001b[0m\n\u001b[1;32m----> 3\u001b[1;33m \u001b[0mdata_atual\u001b[0m \u001b[1;33m=\u001b[0m \u001b[0mmonthRange\u001b[0m\u001b[1;33m(\u001b[0m\u001b[1;34m'2022-01'\u001b[0m\u001b[1;33m)\u001b[0m\u001b[1;33m\u001b[0m\u001b[1;33m\u001b[0m\u001b[0m\n\u001b[0m\u001b[0;32m      4\u001b[0m \u001b[1;33m\u001b[0m\u001b[0m\n\u001b[0;32m      5\u001b[0m \u001b[0mdata_em_texto\u001b[0m \u001b[1;33m=\u001b[0m \u001b[1;34m'{}/{}'\u001b[0m\u001b[1;33m.\u001b[0m\u001b[0mformat\u001b[0m\u001b[1;33m(\u001b[0m\u001b[0mdata_atual\u001b[0m\u001b[1;33m.\u001b[0m\u001b[0mday\u001b[0m\u001b[1;33m,\u001b[0m \u001b[0mdata_atual\u001b[0m\u001b[1;33m.\u001b[0m\u001b[0mmonth\u001b[0m\u001b[1;33m)\u001b[0m\u001b[1;33m\u001b[0m\u001b[1;33m\u001b[0m\u001b[0m\n",
      "\u001b[1;31mTypeError\u001b[0m: 'tuple' object is not callable"
     ]
    }
   ],
   "source": [
    "from datetime import date\n",
    "\n",
    "data_atual = monthRange('2022-01')\n",
    "\n",
    "data_em_texto = '{}/{}'.format(data_atual.day, data_atual.month)\n",
    "\n",
    "print(data_em_texto)\n"
   ]
  },
  {
   "cell_type": "raw",
   "id": "321e9895",
   "metadata": {},
   "source": []
  }
 ],
 "metadata": {
  "kernelspec": {
   "display_name": "Python 3 (ipykernel)",
   "language": "python",
   "name": "python3"
  },
  "language_info": {
   "codemirror_mode": {
    "name": "ipython",
    "version": 3
   },
   "file_extension": ".py",
   "mimetype": "text/x-python",
   "name": "python",
   "nbconvert_exporter": "python",
   "pygments_lexer": "ipython3",
   "version": "3.9.7"
  }
 },
 "nbformat": 4,
 "nbformat_minor": 5
}
